{
  "nbformat": 4,
  "nbformat_minor": 0,
  "metadata": {
    "colab": {
      "provenance": []
    },
    "kernelspec": {
      "name": "python3",
      "display_name": "Python 3"
    },
    "language_info": {
      "name": "python"
    }
  },
  "cells": [
    {
      "cell_type": "markdown",
      "source": [
        "# **Project 3: Building a LangChain Function/Tool Calling Calculator with Google Gemini Flash**"
      ],
      "metadata": {
        "id": "H0Woj59xOiaZ"
      }
    },
    {
      "cell_type": "markdown",
      "source": [
        "## **Installing dependencies**"
      ],
      "metadata": {
        "id": "j2isa96kWv1R"
      }
    },
    {
      "cell_type": "code",
      "source": [
        "!pip install -U -q \"google-generativeai>=0.7.2\""
      ],
      "metadata": {
        "id": "GSUh1nNf1iVv"
      },
      "execution_count": 3,
      "outputs": []
    },
    {
      "cell_type": "code",
      "execution_count": 4,
      "metadata": {
        "id": "fRecraROr8L6"
      },
      "outputs": [],
      "source": [
        "!pip install python-dotenv -q\n",
        "!pip install langchain-community -U -q\n",
        "!pip install google-generativeai -U -q\n",
        "!pip install langchain -U -q\n",
        "!pip install langchain_google_genai -U -q"
      ]
    },
    {
      "cell_type": "code",
      "source": [
        "!pip install langchain --upgrade -q"
      ],
      "metadata": {
        "id": "oZAQ4cuhtq4z"
      },
      "execution_count": 5,
      "outputs": []
    },
    {
      "cell_type": "markdown",
      "source": [
        "## **Securely Store and Retrieve Google API Key in Colab**"
      ],
      "metadata": {
        "id": "xxlP74acQuM6"
      }
    },
    {
      "cell_type": "code",
      "source": [
        "import os\n",
        "from google.colab import userdata\n",
        "\n",
        "google_api_key = userdata.get('GOOGLE_API_KEY')\n",
        "\n",
        "os.environ['GOOGLE_API_KEY'] = google_api_key\n",
        "# Retrieve the API key from the environment variable\n",
        "GOOGLE_API_KEY = os.getenv('GOOGLE_API_KEY')\n"
      ],
      "metadata": {
        "id": "jopnND9bdMgr"
      },
      "execution_count": 7,
      "outputs": []
    },
    {
      "cell_type": "markdown",
      "source": [
        "## **Define the Calculator Tool**"
      ],
      "metadata": {
        "id": "poirL5J6WgTg"
      }
    },
    {
      "cell_type": "code",
      "source": [
        "class Calculator:\n",
        "    def calculate(self, expression: str) -> str:\n",
        "        try:\n",
        "            # Use Python's eval with restricted access to only arithmetic operations\n",
        "            result = eval(expression, {\"__builtins__\": None}, {})\n",
        "            return str(result)\n",
        "        except Exception as e:\n",
        "            return f\"Error: {e}\""
      ],
      "metadata": {
        "id": "rKsH8XNbWh9f"
      },
      "execution_count": 8,
      "outputs": []
    },
    {
      "cell_type": "markdown",
      "source": [
        "## **Create the LangChain Tool Wrapper**"
      ],
      "metadata": {
        "id": "wGJCdDnvkn4K"
      }
    },
    {
      "cell_type": "code",
      "source": [
        "from langchain.tools import tool\n",
        "\n",
        "# Define the tool using a decorator\n",
        "@tool\n",
        "def calculator(expression: str) -> str:\n",
        "    \"\"\"\n",
        "    Perform arithmetic calculations and return results in a user-friendly format.\n",
        "    Input: A mathematical expression as a string (e.g., \"15 / 3\").\n",
        "    Output: A string with a concise result.\n",
        "    \"\"\"\n",
        "    # Create an instance of the Calculator class\n",
        "    calc = Calculator()\n",
        "    # Call the calculate method to get the result\n",
        "    return calc.calculate(expression)"
      ],
      "metadata": {
        "id": "qukMGb_-krcw"
      },
      "execution_count": 9,
      "outputs": []
    },
    {
      "cell_type": "markdown",
      "source": [
        "## **Initialize the Google Gemini Flash Model**"
      ],
      "metadata": {
        "id": "OjbrJGaVlTat"
      }
    },
    {
      "cell_type": "code",
      "source": [
        "from langchain_google_genai.chat_models import ChatGoogleGenerativeAI\n",
        "\n",
        "# Initialize the Google Gemini Flash model\n",
        "llm = ChatGoogleGenerativeAI(\n",
        "    model=\"gemini-1.5-flash\",\n",
        "    api_key=GOOGLE_API_KEY,\n",
        "    temperature=0.7\n",
        ")\n",
        "\n",
        "# Confirm the model is initialized\n",
        "print(\"Google Gemini Flash model initialized.\")"
      ],
      "metadata": {
        "colab": {
          "base_uri": "https://localhost:8080/"
        },
        "id": "M95yUlHceITp",
        "outputId": "eb27d34b-2dd4-405e-ae41-2825216ce11c"
      },
      "execution_count": 10,
      "outputs": [
        {
          "output_type": "stream",
          "name": "stdout",
          "text": [
            "Google Gemini Flash model initialized.\n"
          ]
        }
      ]
    },
    {
      "cell_type": "markdown",
      "source": [
        "## **Set Up the ToolAgent**"
      ],
      "metadata": {
        "id": "yYbAhzhZed0n"
      }
    },
    {
      "cell_type": "code",
      "source": [
        "from langchain.agents import initialize_agent, AgentType\n",
        "from langchain.tools import tool\n",
        "\n",
        "# Define tools\n",
        "tools = [calculator]\n",
        "\n",
        "# Initialize the agent\n",
        "agent = initialize_agent(\n",
        "    tools=tools,\n",
        "    llm=llm,\n",
        "    agent_type=\"openai-function-calling\",\n",
        ")\n",
        "\n",
        "# Example usage: running a query with the agent\n",
        "response = agent.invoke(\"What is 12 * 15?\")\n",
        "print(\"Response:\", response)\n"
      ],
      "metadata": {
        "colab": {
          "base_uri": "https://localhost:8080/"
        },
        "id": "BzJhUJCYlaAx",
        "outputId": "f30e9268-294a-40d0-d789-e27ee05af005"
      },
      "execution_count": 12,
      "outputs": [
        {
          "output_type": "stream",
          "name": "stdout",
          "text": [
            "Response: {'input': 'What is 12 * 15?', 'output': '180'}\n"
          ]
        }
      ]
    },
    {
      "cell_type": "markdown",
      "source": [
        "## **Set Up Memory and Build the Conversational Chain**"
      ],
      "metadata": {
        "id": "lytpQ_73tBfC"
      }
    },
    {
      "cell_type": "code",
      "source": [
        "from langchain.memory import ConversationBufferMemory\n",
        "from langchain.chains import ConversationChain\n",
        "\n",
        "# Set up memory to maintain conversation context\n",
        "memory = ConversationBufferMemory()\n",
        "\n",
        "# Build the conversational chain with the LLM (Gemini model), agent executor, and memory\n",
        "chain = ConversationChain(\n",
        "    llm=llm,\n",
        "    memory=memory,\n",
        "    verbose=True\n",
        ")\n",
        "\n",
        "# Example usage\n",
        "response = chain.invoke(\"What is 12 * 15?\")\n",
        "print(\"Response:\", response)"
      ],
      "metadata": {
        "colab": {
          "base_uri": "https://localhost:8080/"
        },
        "id": "r1RUitaxsqf2",
        "outputId": "c6b6cafb-ce7a-4bb9-8371-9fccd0fceec9"
      },
      "execution_count": 13,
      "outputs": [
        {
          "output_type": "stream",
          "name": "stderr",
          "text": [
            "<ipython-input-13-66bc8c99c66a>:5: LangChainDeprecationWarning: Please see the migration guide at: https://python.langchain.com/docs/versions/migrating_memory/\n",
            "  memory = ConversationBufferMemory()\n",
            "<ipython-input-13-66bc8c99c66a>:8: LangChainDeprecationWarning: The class `ConversationChain` was deprecated in LangChain 0.2.7 and will be removed in 1.0. Use :meth:`~RunnableWithMessageHistory: https://python.langchain.com/v0.2/api_reference/core/runnables/langchain_core.runnables.history.RunnableWithMessageHistory.html` instead.\n",
            "  chain = ConversationChain(\n"
          ]
        },
        {
          "output_type": "stream",
          "name": "stdout",
          "text": [
            "\n",
            "\n",
            "\u001b[1m> Entering new ConversationChain chain...\u001b[0m\n",
            "Prompt after formatting:\n",
            "\u001b[32;1m\u001b[1;3mThe following is a friendly conversation between a human and an AI. The AI is talkative and provides lots of specific details from its context. If the AI does not know the answer to a question, it truthfully says it does not know.\n",
            "\n",
            "Current conversation:\n",
            "\n",
            "Human: What is 12 * 15?\n",
            "AI:\u001b[0m\n",
            "\n",
            "\u001b[1m> Finished chain.\u001b[0m\n",
            "Response: {'input': 'What is 12 * 15?', 'history': '', 'response': \"12 * 15 is 180.  I arrived at that answer by performing the multiplication operation.  Specifically, I used an algorithm commonly taught in elementary school, which involves breaking down the multiplication into smaller, more manageable parts.  For example, I could have done (10 * 15) + (2 * 15) = 150 + 30 = 180.  My internal processes involved representing the numbers digitally and then applying the multiplication function.  While this might seem simple to you, it's a complex series of operations for me!\"}\n"
          ]
        }
      ]
    },
    {
      "cell_type": "markdown",
      "source": [
        "## **Test the Calculator Tool**"
      ],
      "metadata": {
        "id": "oN8g3-U_zI1y"
      }
    },
    {
      "cell_type": "code",
      "source": [
        "query = \"What is 15 divided by 3?\"\n",
        "\n",
        "# Get response from the system\n",
        "response = chain.invoke(query)\n",
        "\n",
        "print(\"Query:\", query)\n",
        "print(\"Response:\", response)"
      ],
      "metadata": {
        "colab": {
          "base_uri": "https://localhost:8080/"
        },
        "id": "S2jCaZYTzVUq",
        "outputId": "adaeed40-54ae-42b8-e413-63d6da915c4d"
      },
      "execution_count": 14,
      "outputs": [
        {
          "output_type": "stream",
          "name": "stdout",
          "text": [
            "\n",
            "\n",
            "\u001b[1m> Entering new ConversationChain chain...\u001b[0m\n",
            "Prompt after formatting:\n",
            "\u001b[32;1m\u001b[1;3mThe following is a friendly conversation between a human and an AI. The AI is talkative and provides lots of specific details from its context. If the AI does not know the answer to a question, it truthfully says it does not know.\n",
            "\n",
            "Current conversation:\n",
            "Human: What is 12 * 15?\n",
            "AI: 12 * 15 is 180.  I arrived at that answer by performing the multiplication operation.  Specifically, I used an algorithm commonly taught in elementary school, which involves breaking down the multiplication into smaller, more manageable parts.  For example, I could have done (10 * 15) + (2 * 15) = 150 + 30 = 180.  My internal processes involved representing the numbers digitally and then applying the multiplication function.  While this might seem simple to you, it's a complex series of operations for me!\n",
            "Human: What is 15 divided by 3?\n",
            "AI:\u001b[0m\n",
            "\n",
            "\u001b[1m> Finished chain.\u001b[0m\n",
            "Query: What is 15 divided by 3?\n",
            "Response: {'input': 'What is 15 divided by 3?', 'history': \"Human: What is 12 * 15?\\nAI: 12 * 15 is 180.  I arrived at that answer by performing the multiplication operation.  Specifically, I used an algorithm commonly taught in elementary school, which involves breaking down the multiplication into smaller, more manageable parts.  For example, I could have done (10 * 15) + (2 * 15) = 150 + 30 = 180.  My internal processes involved representing the numbers digitally and then applying the multiplication function.  While this might seem simple to you, it's a complex series of operations for me!\", 'response': '15 divided by 3 is 5.  This is because 3 goes into 15 five times (3 * 5 = 15).  My calculation involved a division algorithm, essentially finding the integer that, when multiplied by 3, equals 15.  Again, this might seem trivial, but my internal representation of these numbers and the application of the division function are quite involved.  I considered several algorithms before settling on the most efficient one for this particular problem.  I also checked my answer by performing the inverse operation (multiplication) to verify the result.'}\n"
          ]
        }
      ]
    },
    {
      "cell_type": "markdown",
      "source": [
        "## **Example with Multiple Queries**"
      ],
      "metadata": {
        "id": "EE-jpjgm3KnA"
      }
    },
    {
      "cell_type": "code",
      "source": [
        "queries = [\n",
        "    \"What is 25 multiplied by 4?\",\n",
        "    \"Now divide the result by 5.\",\n",
        "    \"Add 10 to that.\"\n",
        "]\n",
        "\n",
        "for q in queries:\n",
        "    print(\"Query:\", q)\n",
        "    print(\"Response:\", chain.run(q))\n",
        "    print(\"-\" * 40)"
      ],
      "metadata": {
        "colab": {
          "base_uri": "https://localhost:8080/"
        },
        "id": "SrCbOr5x3IPc",
        "outputId": "6e5ac982-8175-4e3c-8e0d-1a29b33ccb23"
      },
      "execution_count": 39,
      "outputs": [
        {
          "output_type": "stream",
          "name": "stdout",
          "text": [
            "Query: What is 25 multiplied by 4?\n",
            "\n",
            "\n",
            "\u001b[1m> Entering new ConversationChain chain...\u001b[0m\n",
            "Prompt after formatting:\n",
            "\u001b[32;1m\u001b[1;3mThe following is a friendly conversation between a human and an AI. The AI is talkative and provides lots of specific details from its context. If the AI does not know the answer to a question, it truthfully says it does not know.\n",
            "\n",
            "Current conversation:\n",
            "Human: What is 15 divided by 3?\n",
            "AI: 15 divided by 3 is 5.  That's a simple division problem;  15 contains three groups of 5.  You could also think of it as subtracting 3 from 15 repeatedly until you reach zero – you'd do it five times.  Basic arithmetic!\n",
            "Human: What is 25 multiplied by 4?\n",
            "AI: 25 multiplied by 4 is 100.  Think of it like this: 25 is a quarter of 100, and four quarters make a whole, so four 25s equal 100.  Or, you could use the standard multiplication method, multiplying 25 by 4: 4 times 5 is 20, carry the 2; 4 times 2 is 8, plus the carried 2 is 10.  So the answer is 100.  It's a fairly straightforward multiplication problem.\n",
            "Human: Now divide the result by 5.\n",
            "AI: The result of 25 multiplied by 4 is 100.  Dividing 100 by 5 gives us 20.  This is because 5 goes into 10 twice, and 5 goes into 0 zero times.  Therefore, 100 divided by 5 = 20.  A simple division problem, really!\n",
            "Human: Add 10 to that.\n",
            "AI: Adding 10 to 20 gives us 30.  This is a basic addition problem; you're simply increasing the value of 20 by 10 units.  Think of it as counting ten numbers upwards from 20: 21, 22, 23, 24, 25, 26, 27, 28, 29, 30.  The final answer is 30.\n",
            "Human: What is 25 multiplied by 4?\n",
            "AI:\u001b[0m\n",
            "\n",
            "\u001b[1m> Finished chain.\u001b[0m\n",
            "Response: 25 multiplied by 4 is 100.  As we discussed before, you can think of it as four quarters making a whole (four 25s making 100). Or, you can use the standard multiplication method: 4 times 5 is 20, carry the 2; 4 times 2 is 8, plus the 2 you carried is 10.  Therefore, the answer is 100.\n",
            "----------------------------------------\n",
            "Query: Now divide the result by 5.\n",
            "\n",
            "\n",
            "\u001b[1m> Entering new ConversationChain chain...\u001b[0m\n",
            "Prompt after formatting:\n",
            "\u001b[32;1m\u001b[1;3mThe following is a friendly conversation between a human and an AI. The AI is talkative and provides lots of specific details from its context. If the AI does not know the answer to a question, it truthfully says it does not know.\n",
            "\n",
            "Current conversation:\n",
            "Human: What is 15 divided by 3?\n",
            "AI: 15 divided by 3 is 5.  That's a simple division problem;  15 contains three groups of 5.  You could also think of it as subtracting 3 from 15 repeatedly until you reach zero – you'd do it five times.  Basic arithmetic!\n",
            "Human: What is 25 multiplied by 4?\n",
            "AI: 25 multiplied by 4 is 100.  Think of it like this: 25 is a quarter of 100, and four quarters make a whole, so four 25s equal 100.  Or, you could use the standard multiplication method, multiplying 25 by 4: 4 times 5 is 20, carry the 2; 4 times 2 is 8, plus the carried 2 is 10.  So the answer is 100.  It's a fairly straightforward multiplication problem.\n",
            "Human: Now divide the result by 5.\n",
            "AI: The result of 25 multiplied by 4 is 100.  Dividing 100 by 5 gives us 20.  This is because 5 goes into 10 twice, and 5 goes into 0 zero times.  Therefore, 100 divided by 5 = 20.  A simple division problem, really!\n",
            "Human: Add 10 to that.\n",
            "AI: Adding 10 to 20 gives us 30.  This is a basic addition problem; you're simply increasing the value of 20 by 10 units.  Think of it as counting ten numbers upwards from 20: 21, 22, 23, 24, 25, 26, 27, 28, 29, 30.  The final answer is 30.\n",
            "Human: What is 25 multiplied by 4?\n",
            "AI: 25 multiplied by 4 is 100.  As we discussed before, you can think of it as four quarters making a whole (four 25s making 100). Or, you can use the standard multiplication method: 4 times 5 is 20, carry the 2; 4 times 2 is 8, plus the 2 you carried is 10.  Therefore, the answer is 100.\n",
            "Human: Now divide the result by 5.\n",
            "AI:\u001b[0m\n",
            "\n",
            "\u001b[1m> Finished chain.\u001b[0m\n",
            "Response: The result of 25 multiplied by 4 is 100. Dividing 100 by 5 gives us 20.  As explained previously, this is because 5 goes into 10 twice, and 5 goes into 0 zero times.  Therefore, 100 divided by 5 = 20.  Another straightforward division problem!\n",
            "----------------------------------------\n",
            "Query: Add 10 to that.\n",
            "\n",
            "\n",
            "\u001b[1m> Entering new ConversationChain chain...\u001b[0m\n",
            "Prompt after formatting:\n",
            "\u001b[32;1m\u001b[1;3mThe following is a friendly conversation between a human and an AI. The AI is talkative and provides lots of specific details from its context. If the AI does not know the answer to a question, it truthfully says it does not know.\n",
            "\n",
            "Current conversation:\n",
            "Human: What is 15 divided by 3?\n",
            "AI: 15 divided by 3 is 5.  That's a simple division problem;  15 contains three groups of 5.  You could also think of it as subtracting 3 from 15 repeatedly until you reach zero – you'd do it five times.  Basic arithmetic!\n",
            "Human: What is 25 multiplied by 4?\n",
            "AI: 25 multiplied by 4 is 100.  Think of it like this: 25 is a quarter of 100, and four quarters make a whole, so four 25s equal 100.  Or, you could use the standard multiplication method, multiplying 25 by 4: 4 times 5 is 20, carry the 2; 4 times 2 is 8, plus the carried 2 is 10.  So the answer is 100.  It's a fairly straightforward multiplication problem.\n",
            "Human: Now divide the result by 5.\n",
            "AI: The result of 25 multiplied by 4 is 100.  Dividing 100 by 5 gives us 20.  This is because 5 goes into 10 twice, and 5 goes into 0 zero times.  Therefore, 100 divided by 5 = 20.  A simple division problem, really!\n",
            "Human: Add 10 to that.\n",
            "AI: Adding 10 to 20 gives us 30.  This is a basic addition problem; you're simply increasing the value of 20 by 10 units.  Think of it as counting ten numbers upwards from 20: 21, 22, 23, 24, 25, 26, 27, 28, 29, 30.  The final answer is 30.\n",
            "Human: What is 25 multiplied by 4?\n",
            "AI: 25 multiplied by 4 is 100.  As we discussed before, you can think of it as four quarters making a whole (four 25s making 100). Or, you can use the standard multiplication method: 4 times 5 is 20, carry the 2; 4 times 2 is 8, plus the 2 you carried is 10.  Therefore, the answer is 100.\n",
            "Human: Now divide the result by 5.\n",
            "AI: The result of 25 multiplied by 4 is 100. Dividing 100 by 5 gives us 20.  As explained previously, this is because 5 goes into 10 twice, and 5 goes into 0 zero times.  Therefore, 100 divided by 5 = 20.  Another straightforward division problem!\n",
            "Human: Add 10 to that.\n",
            "AI:\u001b[0m\n",
            "\n",
            "\u001b[1m> Finished chain.\u001b[0m\n",
            "Response: Adding 10 to 20 gives us 30.  This is a basic addition problem;  you're simply increasing the value of 20 by 10 units.  You could visualize this on a number line, moving ten spaces to the right from 20. Or, you could count upwards from 20, adding one at a time until you reach 30.  The answer is 30.\n",
            "----------------------------------------\n"
          ]
        }
      ]
    },
    {
      "cell_type": "markdown",
      "source": [
        "### **The End...**"
      ],
      "metadata": {
        "id": "PYm2ESLqfmLt"
      }
    }
  ]
}