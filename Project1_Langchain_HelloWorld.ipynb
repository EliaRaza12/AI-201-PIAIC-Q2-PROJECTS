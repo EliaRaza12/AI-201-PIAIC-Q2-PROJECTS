{
  "nbformat": 4,
  "nbformat_minor": 0,
  "metadata": {
    "colab": {
      "provenance": []
    },
    "kernelspec": {
      "name": "python3",
      "display_name": "Python 3"
    },
    "language_info": {
      "name": "python"
    }
  },
  "cells": [
    {
      "cell_type": "code",
      "execution_count": null,
      "metadata": {
        "colab": {
          "base_uri": "https://localhost:8080/"
        },
        "id": "z73wJl8A9pBu",
        "outputId": "80b6f1be-c1b2-494b-d8a8-589c81676843"
      },
      "outputs": [
        {
          "output_type": "stream",
          "name": "stdout",
          "text":
        }
      ],
      "source": [
        "!pip install langchain"
      ]
    },
    {
      "cell_type": "code",
      "source": [
        "!pip install langchain-google-genai"
      ],
      "metadata": {
        "colab": {
          "base_uri": "https://localhost:8080/"
        },
        "id": "rK1SwSR3-d7r",
        "outputId": "2cf3e345-b8be-450b-acb3-23c7cd554cb1"
      },
      "execution_count": null,
      "outputs": [
        {
          "output_type": "stream",
          "name": "stdout",
          "text": []
    },
    {
      "cell_type": "code",
      "source": [
        "import langchain_google_genai as genai"
      ],
      "metadata": {
        "id": "kHLfoOCW-ka6"
      },
      "execution_count": null,
      "outputs": []
    },
    {
      "cell_type": "code",
      "source": [
        "!pip install langchain_community # Install the required package"
      ],
      "metadata": {
        "colab": {
          "base_uri": "https://localhost:8080/"
        },
        "id": "loMMGl4r-pMV",
        "outputId": "2b642cf9-e494-4e89-8569-d81009b7c3bf"
      },
      "execution_count": null,
      "outputs": [
        {
          "output_type": "stream",
          "name": "stdout",
          "text": []
    },
    {
      "cell_type": "code",
      "source": [
        "import langchain_google_genai as genai\n",
        "from langchain_google_genai import ChatGoogleGenerativeAI\n",
        "from langchain.prompts import PromptTemplate\n",
        "from langchain.chains import LLMChain\n",
        "\n",
        "from google.colab import userdata\n",
        "GOOGLE_API_KEY = userdata.get('GOOGLE_API_KEY')\n",
        "\n",
        "llm : ChatGoogleGenerativeAI = ChatGoogleGenerativeAI(\n",
        "    model = \"gemini-1.5-flash\",\n",
        "    api_key = GOOGLE_API_KEY,\n",
        ")\n",
        "\n",
        "# Create a prompt template\n",
        "prompt_template = PromptTemplate(\n",
        "    input_variables=[\"question\"],\n",
        "    template=\"You are a helpful assistant. Answer the following question:\\n\\n{question}\"\n",
        ")\n",
        "\n",
        "# Create the LLM chain\n",
        "chain = LLMChain(llm=llm, prompt=prompt_template)\n",
        "\n",
        "# Run the chain with a sample question\n",
        "question = \"What is LangChain?\"\n",
        "response = chain.run({\"question\": question})\n",
        "\n",
        "print(\"Answer:\", response)\n",
        "\n"
      ],
      "metadata": {
        "colab": {
          "base_uri": "https://localhost:8080/"
        },
        "id": "BBi-gKCXA2Xc",
        "outputId": "eec0be99-f685-4f71-d571-80c179c21c2c"
      },
      "execution_count": null,
      "outputs": [
        {
          "output_type": "stream",
          "name": "stdout",
          "text": [
            "Answer: LangChain is a framework for developing applications powered by large language models (LLMs).  It's designed to make it easier to build applications that combine the power of LLMs with other sources of data and computation.  Instead of just prompting an LLM directly, LangChain allows you to connect LLMs to various components, creating more complex and powerful workflows.  These components include:\n",
            "\n",
            "* **Models:**  The LLMs themselves (e.g., OpenAI's GPT models, Hugging Face models).\n",
            "* **Prompts:**  Structured ways to interact with the models, often including examples or instructions.\n",
            "* **Indexes:**  Methods for structuring and querying external data sources (e.g., documents, databases) to provide context to the LLM.\n",
            "* **Chains:**  Sequences of calls to LLMs or other components, allowing for more complex logic and workflows.\n",
            "* **Agents:**  Components that decide which tools (LLMs, search engines, calculators, etc.) to use and in what order to solve a given task.\n",
            "* **Memory:**  Mechanisms to maintain context across multiple interactions with the LLM, enabling conversational applications.\n",
            "\n",
            "\n",
            "In essence, LangChain provides a modular and flexible architecture for building LLM-powered applications, simplifying the development process and enabling more sophisticated functionality than simply using LLMs as standalone tools.  It's particularly useful for applications requiring access to external knowledge, multi-step reasoning, or maintaining conversational context.\n",
            "\n"
          ]
        }
      ]
    },
    {
      "cell_type": "markdown",
      "source": [
        "# **Adding more Prompt Templates**"
      ],
      "metadata": {
        "id": "eKxIHEmW_cI7"
      }
    },
    {
      "cell_type": "markdown",
      "source": [
        "**1. Summarization prompt template**"
      ],
      "metadata": {
        "id": "MjZyFDJt_e_G"
      }
    },
    {
      "cell_type": "code",
      "source": [
        "# Create a summary prompt template\n",
        "summary_prompt = PromptTemplate(\n",
        "    input_variables=[\"text\"],\n",
        "    template=\"Summarize the following text in a concise manner:\\n\\n{text}\"\n",
        ")\n",
        "\n",
        "# Create the LLM chain\n",
        "summary_chain = LLMChain(llm=llm, prompt=summary_prompt)\n",
        "\n",
        "# Run the chain with a sample text\n",
        "text = \"LangChain is a framework for developing applications powered by language models. It allows for composable and modular integrations with external tools.\"\n",
        "summary_response = summary_chain.run({\"text\": text})\n",
        "\n",
        "print(\"Summary:\", summary_response)"
      ],
      "metadata": {
        "colab": {
          "base_uri": "https://localhost:8080/"
        },
        "id": "6yP6Tl63Dvlu",
        "outputId": "7805a99c-b254-43f7-bbd3-240adbf58e77"
      },
      "execution_count": null,
      "outputs": [
        {
          "output_type": "stream",
          "name": "stdout",
          "text": [
            "Summary: LangChain is a framework for building apps using language models, enabling modular integration with other tools.\n",
            "\n"
          ]
        }
      ]
    },
    {
      "cell_type": "markdown",
      "source": [
        "**2. Custom Style Prompt Template**"
      ],
      "metadata": {
        "id": "BmqGR5XSABA-"
      }
    },
    {
      "cell_type": "code",
      "source": [],
      "metadata": {
        "id": "bZAr17BJADQH"
      },
      "execution_count": null,
      "outputs": []
    },
    {
      "cell_type": "code",
      "source": [
        "# Create a formal style prompt template\n",
        "formal_prompt = PromptTemplate(\n",
        "    input_variables=[\"topic\"],\n",
        "    template=\"Write a formal essay on the following topic:\\n\\n{topic}\"\n",
        ")\n",
        "\n",
        "# Create a Informal style prompt template\n",
        "informal_prompt = PromptTemplate(\n",
        "    input_variables=[\"topic\"],\n",
        "    template=\"Explain the following topic in a casual and freindly tone:\\n\\n{topic}\"\n",
        ")\n",
        "\n",
        "# Create the LLM chains\n",
        "formal_chain = LLMChain(llm=llm, prompt=formal_prompt)\n",
        "informal_chain = LLMChain(llm=llm, prompt=informal_prompt)\n",
        "\n",
        "#Create the sample topic\n",
        "topic = \"The importance of Langchain\"\n",
        "\n",
        "# Run chains\n",
        "formal_response = formal_chain.run({\"topic\": topic})\n",
        "informal_response = informal_chain.run({\"topic\": topic})\n",
        "\n",
        "print(\"Formal Response:\", formal_response ,\"\\n\\n\")\n",
        "print(\"Informal Response:\", informal_response)"
      ],
      "metadata": {
        "id": "_BLhDRhkDlud",
        "colab": {
          "base_uri": "https://localhost:8080/"
        },
        "outputId": "d8a5d913-ea40-45f5-a0f9-731ca930be95"
      },
      "execution_count": null,
      "outputs": [
        {
          "output_type": "stream",
          "name": "stdout",
          "text": [
            "Formal Response: ## The Transformative Impact of LangChain: Bridging the Gap Between Large Language Models and Practical Applications\n",
            "\n",
            "LangChain has emerged as a pivotal framework in the rapidly evolving landscape of artificial intelligence, significantly impacting the way we interact with and leverage large language models (LLMs).  While LLMs possess remarkable capabilities in generating text, translating languages, and answering questions, their inherent limitations – primarily their statelessness and inability to interact with external resources – hindered their widespread practical application. LangChain addresses these limitations, acting as a crucial bridge between the raw power of LLMs and the complex demands of real-world problem-solving.  Its importance lies not merely in technical innovation but in its potential to democratize access to advanced AI capabilities and drive transformative changes across various industries.\n",
            "\n",
            "One of LangChain's core contributions is its ability to endow LLMs with memory.  Traditional LLMs operate on a single prompt basis, forgetting previous interactions. This severely restricts their ability to engage in complex, multi-turn dialogues or undertake tasks requiring contextual awareness. LangChain overcomes this by implementing memory mechanisms, allowing LLMs to retain and utilize information from past interactions, significantly enhancing the coherence and usefulness of their responses. This is crucial for applications ranging from sophisticated chatbots that understand user history to complex decision-making systems that require a continuous understanding of the evolving context.\n",
            "\n",
            "Furthermore, LangChain facilitates the integration of LLMs with external data sources and APIs. This capability is arguably its most impactful feature.  By connecting LLMs to databases, search engines, or other specialized knowledge bases, LangChain allows them to access and process information beyond their pre-training data. This empowers the creation of applications that can answer questions based on real-time information, perform complex calculations using external tools, or even automate intricate workflows by interacting with various software systems. This interconnectedness unlocks the potential for LLMs to solve problems that were previously intractable, moving beyond simple text generation to become powerful agents capable of interacting with the real world.\n",
            "\n",
            "Beyond memory and external data integration, LangChain provides a modular and flexible architecture, simplifying the development and deployment of LLM-powered applications. Its standardized components and intuitive API allow developers to easily incorporate various LLMs, memory types, and external tools, fostering rapid prototyping and experimentation. This ease of use is critical in accelerating the adoption of LLM technology, empowering a wider range of developers to leverage its power without needing deep expertise in the underlying intricacies of LLM implementation.\n",
            "\n",
            "However, the importance of LangChain is not without its caveats.  Concerns regarding data security and privacy, particularly when integrating with external databases, require careful consideration and robust security measures.  Furthermore, the ethical implications of increasingly autonomous LLM-powered systems, especially those interacting with real-world systems, demand careful scrutiny and responsible development practices.\n",
            "\n",
            "In conclusion, LangChain represents a significant advancement in the field of AI. By addressing the critical limitations of LLMs and providing a robust, flexible, and accessible framework for their application, it is accelerating the development and deployment of practical, impactful AI solutions.  While challenges remain in terms of security and ethical considerations, the transformative potential of LangChain to bridge the gap between cutting-edge AI research and real-world applications is undeniable, promising a future where sophisticated AI capabilities are readily available to solve complex problems across numerous domains.\n",
            " \n",
            "\n",
            "\n",
            "Informal Response: Hey friend!  So you wanna know why everyone's buzzing about Langchain?  Think of it like this:  you've got this amazing, powerful language model – like a super-smart parrot that can write poems, answer questions, and even code – but it's kinda… scattered.  It lives in its own little world.\n",
            "\n",
            "Langchain is the glue that brings everything together. It's the framework that lets you easily connect your language model to *all sorts of other things*.  Imagine:\n",
            "\n",
            "* **Want your chatbot to access and use information from a specific website or document?** Langchain handles that.  No more manually copying and pasting!\n",
            "* **Need your AI to remember past conversations and build on them?** Langchain makes that happen, giving your bot a memory.\n",
            "* **Dreaming of a super-powered AI assistant that can search the web, access your calendar, and even control your smart home?**  Langchain is the key to making that a reality.\n",
            "\n",
            "Basically, Langchain takes all the cool stuff language models can do and makes it *useful* and *practical*.  It's the bridge between the raw power of AI and the real-world applications we all want.  It's less about the language model itself, and more about how you *effectively use* that language model.\n",
            "\n",
            "It's like having a toolbox full of amazing tools, but Langchain is the workbench that organizes everything and lets you build something truly awesome. So yeah, that's why it's a big deal!\n",
            "\n"
          ]
        }
      ]
    },
    {
      "cell_type": "markdown",
      "source": [
        "# **Adding Memory**"
      ],
      "metadata": {
        "id": "tqIc-FjuAMhD"
      }
    },
    {
      "cell_type": "code",
      "source": [
        "from langchain_google_genai import ChatGoogleGenerativeAI\n",
        "from langchain.prompts import PromptTemplate\n",
        "from langchain.chains import LLMChain\n",
        "from langchain.memory import ConversationBufferMemory\n",
        "\n",
        "from google.colab import userdata\n",
        "GOOGLE_API_KEY = userdata.get('GOOGLE_API_KEY')\n",
        "\n",
        "llm : ChatGoogleGenerativeAI = ChatGoogleGenerativeAI(\n",
        "    model = \"gemini-1.5-flash\",\n",
        "    api_key = GOOGLE_API_KEY,\n",
        ")\n",
        "\n",
        "#Add memory to retain conversation context\n",
        "memory = ConversationBufferMemory(input_key=\"question\",\n",
        "    memory_key=\"history\")\n",
        "\n",
        "# Create a prompt template that includes conversation history\n",
        "prompt_template = PromptTemplate(\n",
        "    input_variables=[\"history\",\"question\"],\n",
        "    template=(\n",
        "      \"You are a helpful assistant. Use the following conversation history to answer the current question. If there is no relevant history, answer the question directly:\\n\\n\"\n",
        "      \"Conversation History:\\n{history}\\n\\n\"\n",
        "      \"Current Question: {question}\\n\\n\"\n",
        "      \"Answer: \"\n",
        "    )\n",
        ")\n",
        "\n",
        "# Create the LLM chain with memory\n",
        "chain = LLMChain(llm=llm, prompt=prompt_template, memory=memory)\n",
        "\n",
        "# Simulate a multi-turn conversation\n",
        "questions = [\n",
        "    \"What is LangChain?\",\n",
        "    \"How does it help in building LLM applications?\",\n",
        "    \"Can you give an example of a LangChain use case?\"\n",
        "]\n",
        "for question in questions:\n",
        "  response = chain.run({\"question\": question})\n",
        "  print(\"Question:\", question, \"\\n\")\n",
        "  print(\"Answer:\", response, \"\\n\")\n",
        "\n"
      ],
      "metadata": {
        "colab": {
          "base_uri": "https://localhost:8080/"
        },
        "outputId": "f411392a-fcd7-4afc-8979-7d9f01566495",
        "id": "k2QWj9B0PoTU"
      },
      "execution_count": null,
      "outputs": [
        {
          "output_type": "stream",
          "name": "stdout",
          "text": [
            "Question: What is LangChain? \n",
            "\n",
            "Answer: LangChain is a framework for developing applications powered by language models.  It provides tools and components to help you build applications that incorporate LLMs in a more structured and efficient way.  This includes features for managing chains of calls to LLMs, memory management, and integration with various LLMs and other data sources.\n",
            " \n",
            "\n",
            "Question: How does it help in building LLM applications? \n",
            "\n",
            "Answer: LangChain helps in building LLM applications by providing tools and components for structured and efficient development.  This includes features for managing sequences of calls to LLMs (chains), handling memory across multiple calls, and integrating with various LLMs and external data sources.  Essentially, it simplifies the process of building complex applications that leverage the capabilities of large language models.\n",
            " \n",
            "\n",
            "Question: Can you give an example of a LangChain use case? \n",
            "\n",
            "Answer: One example of a LangChain use case is building a chatbot that can access and process information from a private company database.  LangChain would manage the interaction between the user's questions, the LLM, and the database.  The LLM would interpret the user's intent, LangChain would query the database based on that intent, and then the LLM would formulate a response based on the retrieved data.  This allows the creation of a chatbot with knowledge grounded in a specific, private knowledge base, which is something difficult to do efficiently without a framework like LangChain.\n",
            " \n",
            "\n"
          ]
        }
      ]
    },
    {
      "cell_type": "markdown",
      "source": [
        "# **Adding Parameters like temperature, max_tokens, top_p and more.**"
      ],
      "metadata": {
        "id": "UbPO6gfQAgJf"
      }
    },
    {
      "cell_type": "code",
      "source": [
        "from langchain_google_genai import ChatGoogleGenerativeAI\n",
        "from langchain.prompts import PromptTemplate\n",
        "from langchain.chains import LLMChain\n",
        "\n",
        "from google.colab import userdata\n",
        "GOOGLE_API_KEY = userdata.get('GOOGLE_API_KEY')\n",
        "\n",
        "llm : ChatGoogleGenerativeAI = ChatGoogleGenerativeAI(\n",
        "    model = \"gemini-1.5-flash\",\n",
        "    api_key = GOOGLE_API_KEY,\n",
        "    temperature = 0.8,\n",
        "    max_tokens = 250,\n",
        "    top_p = 0.8,\n",
        "    frequency_penalty = 0.2,\n",
        "    presence_penalty = 0.5,\n",
        ")\n",
        "\n",
        "# Create a prompt template\n",
        "prompt_template = PromptTemplate(\n",
        "    input_variables=[\"question\"],\n",
        "    template=\"You are a helpful assistant. Answer the following question:\\n\\n{question}\"\n",
        ")\n",
        "\n",
        "# Create the LLM chain\n",
        "chain = LLMChain(llm=llm, prompt=prompt_template)\n",
        "\n",
        "# Run the chain with a sample question\n",
        "question = \"What are the facts about Lions?\"\n",
        "response = chain.run({\"question\": question})\n",
        "\n",
        "print(\"Answer:\", response)\n",
        "\n"
      ],
      "metadata": {
        "colab": {
          "base_uri": "https://localhost:8080/"
        },
        "outputId": "6d288fe6-684a-42c9-cca0-ca15204351b4",
        "id": "3xVXXJ5iIFmo"
      },
      "execution_count": null,
      "outputs": [
        {
          "output_type": "stream",
          "name": "stdout",
          "text": [
            "Answer: Lions are fascinating creatures with many interesting facts:\n",
            "\n",
            "**Physical Characteristics & Biology:**\n",
            "\n",
            "* **Size:** Male lions (lions) are significantly larger than females (lionesses), weighing up to 550 pounds (250 kg), while lionesses typically weigh around 280 pounds (130 kg).\n",
            "* **Mane:**  Only male lions have manes, which vary in color and size depending on factors like genetics, age, and nutrition.  The mane's size can indicate health and dominance.\n",
            "* **Claws:**  Lions possess retractable claws, which they keep sheathed until needed for hunting or defense.\n",
            "* **Roaring:**  Their roar is incredibly loud and can be heard from miles away.  It's used for communication, territorial defense, and hunting coordination.\n",
            "* **Social Structure:** Lions live in prides, which are groups of related females and their offspring, along with a small number of adult males.  Lionesses typically do most of the hunting.\n",
            "* **Hunting:**  Lionesses are the primary hunters, often working together to bring down large prey like zebras, wildebeest, and buffalo.\n",
            "* **Lifespan:**  Lions typically live \n"
          ]
        }
      ]
    }
  ]
}
